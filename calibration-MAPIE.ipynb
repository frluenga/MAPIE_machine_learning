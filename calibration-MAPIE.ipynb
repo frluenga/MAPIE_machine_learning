{
 "cells": [
  {
   "cell_type": "code",
   "execution_count": 30,
   "id": "cf6dd581",
   "metadata": {},
   "outputs": [],
   "source": [
    "import pandas as pd\n",
    "import numpy as np\n",
    "import matplotlib.pyplot as plt\n",
    "import seaborn as sns\n",
    "\n",
    "from sklearn.metrics import mean_squared_error\n",
    "from sklearn.pipeline import Pipeline\n",
    "from sklearn.compose import ColumnTransformer\n",
    "from sklearn.impute import SimpleImputer\n",
    "from sklearn.preprocessing import OneHotEncoder\n",
    "from sklearn.preprocessing import FunctionTransformer\n",
    "\n",
    "from sklearn.linear_model import LinearRegression\n",
    "from sklearn.model_selection import GridSearchCV\n",
    "from sklearn.ensemble import GradientBoostingRegressor\n",
    "from sklearn.ensemble import RandomForestRegressor\n",
    "from sklearn.model_selection import train_test_split\n",
    "\n",
    "from mapie.regression import MapieRegressor"
   ]
  },
  {
   "cell_type": "code",
   "execution_count": 2,
   "id": "53be6121",
   "metadata": {},
   "outputs": [],
   "source": [
    "df_train = pd.read_csv('./bases/Train.csv')\n",
    "# Base para concatenar predicciones y subir a Kaggle\n",
    "df_test = pd.read_csv('./bases/Test.csv')"
   ]
  },
  {
   "cell_type": "code",
   "execution_count": 3,
   "id": "5ccf592d",
   "metadata": {},
   "outputs": [
    {
     "data": {
      "text/html": [
       "<div>\n",
       "<style scoped>\n",
       "    .dataframe tbody tr th:only-of-type {\n",
       "        vertical-align: middle;\n",
       "    }\n",
       "\n",
       "    .dataframe tbody tr th {\n",
       "        vertical-align: top;\n",
       "    }\n",
       "\n",
       "    .dataframe thead th {\n",
       "        text-align: right;\n",
       "    }\n",
       "</style>\n",
       "<table border=\"1\" class=\"dataframe\">\n",
       "  <thead>\n",
       "    <tr style=\"text-align: right;\">\n",
       "      <th></th>\n",
       "      <th>Item_Identifier</th>\n",
       "      <th>Item_Weight</th>\n",
       "      <th>Item_Fat_Content</th>\n",
       "      <th>Item_Visibility</th>\n",
       "      <th>Item_Type</th>\n",
       "      <th>Item_MRP</th>\n",
       "      <th>Outlet_Identifier</th>\n",
       "      <th>Outlet_Establishment_Year</th>\n",
       "      <th>Outlet_Size</th>\n",
       "      <th>Outlet_Location_Type</th>\n",
       "      <th>Outlet_Type</th>\n",
       "      <th>Item_Outlet_Sales</th>\n",
       "    </tr>\n",
       "  </thead>\n",
       "  <tbody>\n",
       "    <tr>\n",
       "      <th>0</th>\n",
       "      <td>FDA15</td>\n",
       "      <td>9.3</td>\n",
       "      <td>Low Fat</td>\n",
       "      <td>0.016047</td>\n",
       "      <td>Dairy</td>\n",
       "      <td>249.8092</td>\n",
       "      <td>OUT049</td>\n",
       "      <td>1999</td>\n",
       "      <td>Medium</td>\n",
       "      <td>Tier 1</td>\n",
       "      <td>Supermarket Type1</td>\n",
       "      <td>3735.1380</td>\n",
       "    </tr>\n",
       "    <tr>\n",
       "      <th>831</th>\n",
       "      <td>FDA15</td>\n",
       "      <td>9.3</td>\n",
       "      <td>Low Fat</td>\n",
       "      <td>0.016055</td>\n",
       "      <td>Dairy</td>\n",
       "      <td>250.2092</td>\n",
       "      <td>OUT045</td>\n",
       "      <td>2002</td>\n",
       "      <td>NaN</td>\n",
       "      <td>Tier 2</td>\n",
       "      <td>Supermarket Type1</td>\n",
       "      <td>5976.2208</td>\n",
       "    </tr>\n",
       "  </tbody>\n",
       "</table>\n",
       "</div>"
      ],
      "text/plain": [
       "    Item_Identifier  Item_Weight Item_Fat_Content  Item_Visibility Item_Type  \\\n",
       "0             FDA15          9.3          Low Fat         0.016047     Dairy   \n",
       "831           FDA15          9.3          Low Fat         0.016055     Dairy   \n",
       "\n",
       "     Item_MRP Outlet_Identifier  Outlet_Establishment_Year Outlet_Size  \\\n",
       "0    249.8092            OUT049                       1999      Medium   \n",
       "831  250.2092            OUT045                       2002         NaN   \n",
       "\n",
       "    Outlet_Location_Type        Outlet_Type  Item_Outlet_Sales  \n",
       "0                 Tier 1  Supermarket Type1          3735.1380  \n",
       "831               Tier 2  Supermarket Type1          5976.2208  "
      ]
     },
     "execution_count": 3,
     "metadata": {},
     "output_type": "execute_result"
    }
   ],
   "source": [
    "df_train[df_train['Item_Identifier'] == 'FDA15' ].head(2)"
   ]
  },
  {
   "cell_type": "markdown",
   "id": "eaaec81a",
   "metadata": {},
   "source": [
    "# Analisis Descriptivo:"
   ]
  },
  {
   "cell_type": "code",
   "execution_count": 4,
   "id": "4efe815f",
   "metadata": {},
   "outputs": [],
   "source": [
    "# df_train.describe()"
   ]
  },
  {
   "cell_type": "code",
   "execution_count": 5,
   "id": "4544e5b9",
   "metadata": {},
   "outputs": [],
   "source": [
    "# fig, axes = plt.subplots(2, 2,figsize=(15,10))\n",
    "# sns.histplot(data=df_train,x='Item_Weight',ax=axes[0,0])\n",
    "# sns.histplot(data=df_train,x='Item_Visibility',ax=axes[0,1])\n",
    "# sns.histplot(data=df_train,x='Item_MRP',ax=axes[1,0])\n",
    "# sns.histplot(data=df_train,x='Outlet_Establishment_Year',ax=axes[1,1])\n",
    "# plt.show()"
   ]
  },
  {
   "cell_type": "code",
   "execution_count": 6,
   "id": "5f25fd48",
   "metadata": {},
   "outputs": [],
   "source": [
    "# axis=sns.pairplot(df_train)"
   ]
  },
  {
   "cell_type": "code",
   "execution_count": 7,
   "id": "f1798374",
   "metadata": {},
   "outputs": [],
   "source": [
    "# df_train.nunique()"
   ]
  },
  {
   "cell_type": "code",
   "execution_count": 8,
   "id": "7e2d6ec6",
   "metadata": {},
   "outputs": [],
   "source": [
    "# df_train.isna().sum(axis=0)/len(df_train)\n",
    "# df_train.isna().sum(axis=0)"
   ]
  },
  {
   "cell_type": "markdown",
   "id": "83299d2e",
   "metadata": {},
   "source": [
    "# Transformación de variables"
   ]
  },
  {
   "cell_type": "code",
   "execution_count": 9,
   "id": "8fcbe495",
   "metadata": {},
   "outputs": [],
   "source": [
    "# Transormando el tipo de dato OBJECT a Category\n",
    "df_train['Item_Fat_Content'] = df_train.Item_Fat_Content.astype('category')\n",
    "df_train['Item_Type'] = df_train.Item_Type.astype('category')\n",
    "df_train['Outlet_Identifier'] = df_train.Outlet_Identifier.astype('category')\n",
    "df_train['Outlet_Size'] = df_train.Outlet_Size.astype('category')\n",
    "df_train['Outlet_Location_Type'] = df_train.Outlet_Location_Type.astype('category')\n",
    "df_train['Outlet_Type'] = df_train.Outlet_Type.astype('category')\n",
    "df_train['Outlet_Establishment_Year'] = df_train.Outlet_Establishment_Year.astype('category')\n",
    "# se puede omitir este codigo abajo\n",
    "df_test['Item_Fat_Content'] = df_test.Item_Fat_Content.astype('category')\n",
    "df_test['Item_Type'] = df_test.Item_Type.astype('category')\n",
    "df_test['Outlet_Identifier'] = df_test.Outlet_Identifier.astype('category')\n",
    "df_test['Outlet_Size'] = df_test.Outlet_Size.astype('category')\n",
    "df_test['Outlet_Location_Type'] = df_test.Outlet_Location_Type.astype('category')\n",
    "df_test['Outlet_Type'] = df_test.Outlet_Type.astype('category')\n",
    "df_test['Outlet_Establishment_Year'] = df_test.Outlet_Establishment_Year.astype('category')"
   ]
  },
  {
   "cell_type": "code",
   "execution_count": 10,
   "id": "9be048ad",
   "metadata": {},
   "outputs": [],
   "source": [
    "# Se decide eliminar los N.A. de la variable categorica Outlet Size.\n",
    "## Se podría imputar la moda, segun conveniencia\n",
    "df_train.dropna(subset=['Outlet_Size'],inplace=True)\n",
    "# Por alguna razón, la clase SimpleImputer de Sklearn NO sirve en mi pipeline\n",
    "## Decido imputar la media a los NA de la variable Item_weight, teniendo en cuenta\n",
    "### que sus medidas de tendencia central no se ven afectadas por outliers\n",
    "df_train['Item_Weight'].fillna(df_train['Item_Weight'].mean(), inplace=True)\n",
    "df_train.drop(['Item_Identifier'],axis=1,inplace=True)\n",
    "\n",
    "df_test.dropna(subset=['Outlet_Size'],inplace=True)\n",
    "df_test['Item_Weight'].fillna(df_test['Item_Weight'].mean(), inplace=True)\n",
    "df_test.drop(['Item_Identifier'],axis=1,inplace=True)\n",
    "\n",
    "# ## OTRA FORMA_: Utilizar la clase SimpleImputer()\n",
    "# imputer = SimpleImputer(missing_values=np.nan, strategy=\"mean\")\n",
    "# imputer.fit(df_train[['Item_Weight']])\n",
    "# df_train['Item_Weight'] = imputer.transform(df_train[['Item_Weight']]).ravel()\n",
    "\n",
    "## Corrección de clases: Estandarizando los valores de Item_Fat_Content \n",
    "item_fat = {'Low Fat':'low', 'Regular':'regular', 'LF':'low', 'reg':'regular','low fat':'low'}\n",
    "df_train['Item_Fat_Content'] = df_train['Item_Fat_Content'].map(item_fat)\n",
    "df_test['Item_Fat_Content'] = df_test['Item_Fat_Content'].map(item_fat)"
   ]
  },
  {
   "cell_type": "code",
   "execution_count": 11,
   "id": "9a8d9a53",
   "metadata": {},
   "outputs": [],
   "source": [
    "vars_catg = ['Item_Fat_Content','Item_Type','Outlet_Identifier','Outlet_Establishment_Year','Outlet_Size',\n",
    "             'Outlet_Location_Type','Outlet_Type']\n",
    "var_num_null = ['Item_Weight']\n",
    "vars_num = ['Item_Weight','Item_Visibility','Item_MRP']\n",
    "\n",
    "# ## Otra forma de volver Dummys\n",
    "# train = pd.get_dummies(df_train, columns=vars_catg)\n",
    "# test = pd.get_dummies(df_test, columns=vars_catg)\n",
    "\n",
    "X = df_train.drop(['Item_Outlet_Sales'],axis=1)\n",
    "y = df_train['Item_Outlet_Sales'].agg(np.log1p)\n",
    "\n",
    "X_train,X_test,y_train,y_test = train_test_split(X,y,test_size=0.2,random_state=42)"
   ]
  },
  {
   "cell_type": "code",
   "execution_count": 12,
   "id": "8ff6ada1",
   "metadata": {},
   "outputs": [],
   "source": [
    "prepoc = ColumnTransformer([\n",
    "            # No funciona el simple imputer, leí documentación al respecto sin éxito.\n",
    "#         ('mean_imputer',SimpleImputer(strategy='mean',fill_value='missing'),var_num_null),\n",
    "        ('dummy',OneHotEncoder(drop='first'),vars_catg),\n",
    "        ('log',FunctionTransformer(np.log1p, validate=False),vars_num)\n",
    "])\n"
   ]
  },
  {
   "cell_type": "markdown",
   "id": "ce1c1cdf",
   "metadata": {},
   "source": [
    "## Regresión Lineal"
   ]
  },
  {
   "cell_type": "code",
   "execution_count": 13,
   "id": "08cfa762",
   "metadata": {},
   "outputs": [],
   "source": [
    "Model_lineal = Pipeline([('preprocesamiento',prepoc),\n",
    "                       ('Regresión Lineal', LinearRegression())])"
   ]
  },
  {
   "cell_type": "code",
   "execution_count": 14,
   "id": "daa25198",
   "metadata": {
    "collapsed": true
   },
   "outputs": [
    {
     "data": {
      "text/plain": [
       "Pipeline(steps=[('preprocesamiento',\n",
       "                 ColumnTransformer(transformers=[('dummy',\n",
       "                                                  OneHotEncoder(drop='first'),\n",
       "                                                  ['Item_Fat_Content',\n",
       "                                                   'Item_Type',\n",
       "                                                   'Outlet_Identifier',\n",
       "                                                   'Outlet_Establishment_Year',\n",
       "                                                   'Outlet_Size',\n",
       "                                                   'Outlet_Location_Type',\n",
       "                                                   'Outlet_Type']),\n",
       "                                                 ('log',\n",
       "                                                  FunctionTransformer(func=<ufunc 'log1p'>),\n",
       "                                                  ['Item_Weight',\n",
       "                                                   'Item_Visibility',\n",
       "                                                   'Item_MRP'])])),\n",
       "                ('Regresión Lineal', LinearRegression())])"
      ]
     },
     "execution_count": 14,
     "metadata": {},
     "output_type": "execute_result"
    }
   ],
   "source": [
    "Model_lineal.fit(X_train,y_train)"
   ]
  },
  {
   "cell_type": "code",
   "execution_count": 15,
   "id": "ccd06d70",
   "metadata": {},
   "outputs": [],
   "source": [
    "y_pred = Model_lineal.predict(X_test)\n",
    "y_pred_inverse = np.expm1(y_pred)\n",
    "y_test_inverse = np.expm1(y_test)"
   ]
  },
  {
   "cell_type": "code",
   "execution_count": 16,
   "id": "e7a762b5",
   "metadata": {},
   "outputs": [
    {
     "name": "stdout",
     "output_type": "stream",
     "text": [
      "R2 del modelo Lineal PERO, del valor log(y+1) 0.7255951316968916\n",
      "RMSE del modelo Lineal con la escala real de y 1113.3317774792752\n"
     ]
    }
   ],
   "source": [
    "print('R2 del modelo Lineal PERO, del valor log(y+1)',Model_lineal.score(X_test,y_test))\n",
    "print('RMSE del modelo Lineal con la escala real de y', np.sqrt(mean_squared_error(y_test_inverse,y_pred_inverse)))"
   ]
  },
  {
   "cell_type": "code",
   "execution_count": 17,
   "id": "15f5a653",
   "metadata": {},
   "outputs": [
    {
     "name": "stderr",
     "output_type": "stream",
     "text": [
      "D:\\Users\\FRLUENGA\\.conda\\envs\\MAPIE_Calibration\\lib\\site-packages\\seaborn\\_decorators.py:36: FutureWarning: Pass the following variables as keyword args: x, y. From version 0.12, the only valid positional argument will be `data`, and passing other arguments without an explicit keyword will result in an error or misinterpretation.\n",
      "  warnings.warn(\n",
      "D:\\Users\\FRLUENGA\\.conda\\envs\\MAPIE_Calibration\\lib\\site-packages\\seaborn\\_decorators.py:36: FutureWarning: Pass the following variables as keyword args: x, y. From version 0.12, the only valid positional argument will be `data`, and passing other arguments without an explicit keyword will result in an error or misinterpretation.\n",
      "  warnings.warn(\n"
     ]
    },
    {
     "data": {
      "image/png": "[encoded data removed]",
      "text/plain": [
       "<Figure size 432x288 with 2 Axes>"
      ]
     },
     "metadata": {
      "needs_background": "light"
     },
     "output_type": "display_data"
    }
   ],
   "source": [
    "fig,ax =plt.subplots(1,2)\n",
    "sns.scatterplot(y_pred_inverse,y_test_inverse,ax=ax[0])\n",
    "sns.scatterplot(y_pred,y_test,ax=ax[1])\n",
    "plt.show()"
   ]
  },
  {
   "cell_type": "markdown",
   "id": "8a42de2c",
   "metadata": {},
   "source": [
    "## XGboost Regression"
   ]
  },
  {
   "cell_type": "code",
   "execution_count": 18,
   "id": "0dd47154",
   "metadata": {},
   "outputs": [
    {
     "name": "stdout",
     "output_type": "stream",
     "text": [
      "R2 del modelo XGBoost PERO, del valor log(y+1) 0.7199773985155755\n",
      "RMSE del modelo XGBoost con la escala real de y 1125.0716411101128\n"
     ]
    }
   ],
   "source": [
    "params = {\n",
    "    \"n_estimators\": 500,\n",
    "    \"max_depth\": 5,\n",
    "    \"min_samples_split\": 5,\n",
    "    \"learning_rate\": 0.01,\n",
    "    \"loss\": \"squared_error\",\n",
    "}\n",
    "\n",
    "xgbr = ensemble.GradientBoostingRegressor(**params)\n",
    "\n",
    "Model_xgboost = Pipeline([('preprocesamiento',prepoc),\n",
    "                       ('Boosting_Reg',xgbr)])\n",
    "\n",
    "\n",
    "Model_xgboost.fit(X_train,y_train)\n",
    "\n",
    "y_pred = Model_xgboost.predict(X_test)\n",
    "y_pred_inverse = np.expm1(y_pred)\n",
    "y_test_inverse = np.expm1(y_test)\n",
    "\n",
    "print('R2 del modelo XGBoost PERO, del valor log(y+1)',Model_xgboost.score(X_test,y_test))\n",
    "print('RMSE del modelo XGBoost con la escala real de y',np.sqrt(mean_squared_error(y_test_inverse,y_pred_inverse)))"
   ]
  },
  {
   "cell_type": "code",
   "execution_count": 19,
   "id": "bd2795fc",
   "metadata": {
    "collapsed": true
   },
   "outputs": [
    {
     "name": "stderr",
     "output_type": "stream",
     "text": [
      "D:\\Users\\FRLUENGA\\.conda\\envs\\MAPIE_Calibration\\lib\\site-packages\\seaborn\\_decorators.py:36: FutureWarning: Pass the following variables as keyword args: x, y. From version 0.12, the only valid positional argument will be `data`, and passing other arguments without an explicit keyword will result in an error or misinterpretation.\n",
      "  warnings.warn(\n",
      "D:\\Users\\FRLUENGA\\.conda\\envs\\MAPIE_Calibration\\lib\\site-packages\\seaborn\\_decorators.py:36: FutureWarning: Pass the following variables as keyword args: x, y. From version 0.12, the only valid positional argument will be `data`, and passing other arguments without an explicit keyword will result in an error or misinterpretation.\n",
      "  warnings.warn(\n"
     ]
    },
    {
     "data": {
      "image/png": "[encoded data removed]",
      "text/plain": [
       "<Figure size 432x288 with 2 Axes>"
      ]
     },
     "metadata": {
      "needs_background": "light"
     },
     "output_type": "display_data"
    }
   ],
   "source": [
    "fig,ax =plt.subplots(1,2)\n",
    "sns.scatterplot(y_pred_inverse,y_test_inverse,ax=ax[0])\n",
    "sns.scatterplot(y_pred,y_test,ax=ax[1])\n",
    "plt.show()"
   ]
  },
  {
   "cell_type": "markdown",
   "id": "0ccae4e3",
   "metadata": {},
   "source": [
    "## GridSearchCV: Configuración de Hiperparametros"
   ]
  },
  {
   "cell_type": "code",
   "execution_count": 20,
   "id": "b40cd3ba",
   "metadata": {},
   "outputs": [],
   "source": [
    "grid_params = {\n",
    "    \"gb__n_estimators\": [250,500],\n",
    "    \"gb__max_depth\": [10,15,20],\n",
    "    \"gb__loss\": [\"squared_error\",'absolute_error','huber'],\n",
    "}\n",
    "\n",
    "params={'min_samples_split':5,\n",
    "        'learning_rate':0.1}\n",
    "\n",
    "xgbr = ensemble.GradientBoostingRegressor(**params)\n",
    "\n",
    "Model_xgboost = Pipeline([('preprocess',prepoc),\n",
    "                       ('gb',xgbr)])\n",
    "\n",
    "gs = GridSearchCV(Model_xgboost, \n",
    "                  param_grid=grid_params,\n",
    "                  scoring='neg_mean_squared_error', \n",
    "                  n_jobs=2,\n",
    "                  cv=2, return_train_score=True)"
   ]
  },
  {
   "cell_type": "code",
   "execution_count": 29,
   "id": "e08a23b3",
   "metadata": {},
   "outputs": [],
   "source": [
    "# gs.fit(X_train,y_train)\n",
    "## por limitaciones computacionales y tiempo no pude correr el modelo"
   ]
  },
  {
   "cell_type": "markdown",
   "id": "8ad24552",
   "metadata": {},
   "source": [
    "## Calibración: MAPIE intervalos de confianza"
   ]
  },
  {
   "cell_type": "code",
   "execution_count": 21,
   "id": "e7ea7ce6",
   "metadata": {},
   "outputs": [],
   "source": [
    "X_train_Cal, X_test, y_train_cal, t_test = train_test_split(X,y,test_size=0.2,random_state=42)\n",
    "\n",
    "X_train, X_cal, y_train, y_cal = train_test_split(X_train_Cal, y_train_cal, test_size=0.5, random_state=42)"
   ]
  },
  {
   "cell_type": "code",
   "execution_count": 22,
   "id": "a18628f6",
   "metadata": {},
   "outputs": [],
   "source": [
    "## Otra forma de volver Dummys y normalizar a log(x+1) TRAIN\n",
    "X_train = pd.get_dummies(X_train, columns=vars_catg)\n",
    "# X_cal.drop(vars_catg,axis=1,inplace=True) no es necesario\n",
    "X_train[vars_num] = X_train[vars_num].apply(lambda x: np.log1p(x))\n",
    "\n",
    "## Otra forma de volver Dummys y normalizar a log(x+1) CAL\n",
    "X_cal = pd.get_dummies(X_cal, columns=vars_catg)\n",
    "X_cal[vars_num] = X_cal[vars_num].apply(lambda x: np.log1p(x))\n",
    "\n",
    "## Otra forma de volver Dummys y normalizar a log(x+1) TEST\n",
    "X_test = pd.get_dummies(X_test, columns=vars_catg)\n",
    "X_test[vars_num] = X_test[vars_num].apply(lambda x: np.log1p(x))"
   ]
  },
  {
   "cell_type": "code",
   "execution_count": 23,
   "id": "720231cc",
   "metadata": {},
   "outputs": [
    {
     "name": "stdout",
     "output_type": "stream",
     "text": [
      "TRAIN: \n",
      "(2445, 50)\n",
      "(2445,)\n",
      "CALIBRATION: \n",
      "(2445, 50)\n",
      "(2445,)\n",
      "TEST: \n",
      "(1223, 50)\n",
      "(1223,)\n"
     ]
    }
   ],
   "source": [
    "print('TRAIN: ')\n",
    "print(X_train.shape)\n",
    "print(y_train.shape)\n",
    "print('CALIBRATION: ')\n",
    "print(X_cal.shape)\n",
    "print(y_cal.shape)\n",
    "print('TEST: ')\n",
    "print(X_test.shape)\n",
    "print(y_test.shape)"
   ]
  },
  {
   "cell_type": "code",
   "execution_count": 24,
   "id": "04f200c5",
   "metadata": {},
   "outputs": [
    {
     "name": "stdout",
     "output_type": "stream",
     "text": [
      "0.7180136416600555\n"
     ]
    }
   ],
   "source": [
    "Model_lineal_cal = LinearRegression()\n",
    "Model_lineal_cal.fit(X_train,y_train)\n",
    "print(Model_lineal_cal.score(X_test,y_test))"
   ]
  },
  {
   "cell_type": "code",
   "execution_count": 25,
   "id": "a0223a4a",
   "metadata": {},
   "outputs": [
    {
     "name": "stderr",
     "output_type": "stream",
     "text": [
      "D:\\Users\\FRLUENGA\\.conda\\envs\\MAPIE_Calibration\\lib\\site-packages\\sklearn\\base.py:450: UserWarning: X does not have valid feature names, but LinearRegression was fitted with feature names\n",
      "  warnings.warn(\n"
     ]
    }
   ],
   "source": [
    "mapie = MapieRegressor(estimator=Model_lineal_cal,cv='prefit').fit(X_cal,y_cal)"
   ]
  },
  {
   "cell_type": "code",
   "execution_count": 27,
   "id": "e159e5ad",
   "metadata": {},
   "outputs": [
    {
     "name": "stderr",
     "output_type": "stream",
     "text": [
      "D:\\Users\\FRLUENGA\\.conda\\envs\\MAPIE_Calibration\\lib\\site-packages\\sklearn\\base.py:450: UserWarning: X does not have valid feature names, but LinearRegression was fitted with feature names\n",
      "  warnings.warn(\n"
     ]
    },
    {
     "data": {
      "text/html": [
       "<div>\n",
       "<style scoped>\n",
       "    .dataframe tbody tr th:only-of-type {\n",
       "        vertical-align: middle;\n",
       "    }\n",
       "\n",
       "    .dataframe tbody tr th {\n",
       "        vertical-align: top;\n",
       "    }\n",
       "\n",
       "    .dataframe thead th {\n",
       "        text-align: right;\n",
       "    }\n",
       "</style>\n",
       "<table border=\"1\" class=\"dataframe\">\n",
       "  <thead>\n",
       "    <tr style=\"text-align: right;\">\n",
       "      <th></th>\n",
       "      <th>Left</th>\n",
       "      <th>Right</th>\n",
       "    </tr>\n",
       "  </thead>\n",
       "  <tbody>\n",
       "    <tr>\n",
       "      <th>5680</th>\n",
       "      <td>6.731914</td>\n",
       "      <td>8.762227</td>\n",
       "    </tr>\n",
       "    <tr>\n",
       "      <th>446</th>\n",
       "      <td>3.642558</td>\n",
       "      <td>5.672871</td>\n",
       "    </tr>\n",
       "    <tr>\n",
       "      <th>4053</th>\n",
       "      <td>6.294902</td>\n",
       "      <td>8.325215</td>\n",
       "    </tr>\n",
       "    <tr>\n",
       "      <th>8194</th>\n",
       "      <td>4.772441</td>\n",
       "      <td>6.802754</td>\n",
       "    </tr>\n",
       "    <tr>\n",
       "      <th>6185</th>\n",
       "      <td>7.120586</td>\n",
       "      <td>9.150899</td>\n",
       "    </tr>\n",
       "  </tbody>\n",
       "</table>\n",
       "</div>"
      ],
      "text/plain": [
       "          Left     Right\n",
       "5680  6.731914  8.762227\n",
       "446   3.642558  5.672871\n",
       "4053  6.294902  8.325215\n",
       "8194  4.772441  6.802754\n",
       "6185  7.120586  9.150899"
      ]
     },
     "execution_count": 27,
     "metadata": {},
     "output_type": "execute_result"
    }
   ],
   "source": [
    "# Obtener los intervalos de confianza a un nivel de significancia del 0.05\n",
    "# solo para 5 observaciones\n",
    "y_test_pred_interval = pd.DataFrame(mapie.predict(X_test,alpha=0.05)[1].reshape(-1,2),index=X_test.index,columns=['Left','Right']\n",
    "                                   )\n",
    "y_test_pred_interval.iloc[:5,:]"
   ]
  },
  {
   "cell_type": "markdown",
   "id": "71f49dba",
   "metadata": {},
   "source": [
    "* Con el 5% para el nivel de significancia, estamos indicando que estamos dispuestos a obtener que no mas del 5 porciendo de las predicciones caigan por fuera del intervalo de confianza.\n",
    "\n",
    "#### ¿Cómo comprobamos esto?"
   ]
  },
  {
   "cell_type": "code",
   "execution_count": 29,
   "id": "9babd7a2",
   "metadata": {},
   "outputs": [
    {
     "data": {
      "text/plain": [
       "0.04251839738348324"
      ]
     },
     "execution_count": 29,
     "metadata": {},
     "output_type": "execute_result"
    }
   ],
   "source": [
    "out_of_interval = (\n",
    "        (y_test<y_test_pred_interval['Left']) |\n",
    "        (y_test>y_test_pred_interval['Right'])\n",
    ").sum() / len(y_test)\n",
    "out_of_interval"
   ]
  },
  {
   "cell_type": "markdown",
   "id": "bf80e77f",
   "metadata": {},
   "source": [
    "### Ejemplo Detallado Con RandomForestRegressor"
   ]
  },
  {
   "cell_type": "code",
   "execution_count": 33,
   "id": "9947b158",
   "metadata": {},
   "outputs": [],
   "source": [
    "params = {\n",
    "    'n_estimators' : [50,100,150,200],\n",
    "    'criterion' : ['squared_error', 'absolute_error', 'poisson']\n",
    "}\n",
    "model = RandomForestRegressor(bootstrap=True)"
   ]
  },
  {
   "cell_type": "code",
   "execution_count": 34,
   "id": "baaee534",
   "metadata": {},
   "outputs": [],
   "source": [
    "grid_rf = GridSearchCV(model,param_grid=params,\n",
    "                      scoring='neg_mean_squared_error',\n",
    "                      n_jobs=2,\n",
    "                      cv=3,\n",
    "                      return_train_score=True)"
   ]
  },
  {
   "cell_type": "code",
   "execution_count": 35,
   "id": "348dac80",
   "metadata": {},
   "outputs": [
    {
     "data": {
      "text/plain": [
       "GridSearchCV(cv=3, estimator=RandomForestRegressor(), n_jobs=2,\n",
       "             param_grid={'criterion': ['squared_error', 'absolute_error',\n",
       "                                       'poisson'],\n",
       "                         'n_estimators': [50, 100, 150, 200]},\n",
       "             return_train_score=True, scoring='neg_mean_squared_error')"
      ]
     },
     "execution_count": 35,
     "metadata": {},
     "output_type": "execute_result"
    }
   ],
   "source": [
    "grid_rf.fit(X_train,y_train)"
   ]
  },
  {
   "cell_type": "code",
   "execution_count": 36,
   "id": "a7be0f8a",
   "metadata": {},
   "outputs": [
    {
     "name": "stdout",
     "output_type": "stream",
     "text": [
      "{'criterion': 'absolute_error', 'n_estimators': 200}\n"
     ]
    }
   ],
   "source": [
    "print(grid_rf.best_params_)"
   ]
  },
  {
   "cell_type": "code",
   "execution_count": 38,
   "id": "c6e89bf0",
   "metadata": {},
   "outputs": [],
   "source": [
    "model = RandomForestRegressor(n_estimators = 200, criterion = 'absolute_error', bootstrap=True)"
   ]
  },
  {
   "cell_type": "code",
   "execution_count": 39,
   "id": "89b5b718",
   "metadata": {},
   "outputs": [
    {
     "data": {
      "text/plain": [
       "RandomForestRegressor(criterion='absolute_error', n_estimators=200)"
      ]
     },
     "execution_count": 39,
     "metadata": {},
     "output_type": "execute_result"
    }
   ],
   "source": [
    "model.fit(X_train,y_train)"
   ]
  },
  {
   "cell_type": "code",
   "execution_count": 67,
   "id": "eb22961a",
   "metadata": {},
   "outputs": [],
   "source": [
    "# predict MAE of calibration\n",
    "y_cal_pred = model.predict(X_cal)\n",
    "\n",
    "# real scale\n",
    "y_cal_error = np.abs(np.expm1(y_cal) - np.expm1(y_cal_pred))\n",
    "# alpha level 0.05\n",
    "quantile = y_cal_error.quantile(q=0.95,interpolation='higher')\n",
    "# predict test\n",
    "y_test_pred = model.predict(X_test)\n",
    "# confidence interval\n",
    "y_test_int_left = np.expm1(y_test_pred) - quantile\n",
    "y_test_int_right = np.expm1(y_test_pred) + quantile"
   ]
  },
  {
   "cell_type": "code",
   "execution_count": 65,
   "id": "5ed31781",
   "metadata": {},
   "outputs": [
    {
     "data": {
      "image/png": "[encoded data removed]",
      "text/plain": [
       "<Figure size 432x288 with 1 Axes>"
      ]
     },
     "metadata": {
      "needs_background": "light"
     },
     "output_type": "display_data"
    }
   ],
   "source": [
    "fig,ax = plt.subplots()\n",
    "ax.hist(y_cal_error,bins=30,label='Error')\n",
    "ax.axvline(quantile,color='red',linestyle='--',label='Percentil 95')\n",
    "ax.legend()\n",
    "plt.show()"
   ]
  },
  {
   "cell_type": "code",
   "execution_count": 66,
   "id": "a73388c0",
   "metadata": {},
   "outputs": [
    {
     "data": {
      "text/plain": [
       "2700.55935371269"
      ]
     },
     "execution_count": 66,
     "metadata": {},
     "output_type": "execute_result"
    }
   ],
   "source": [
    "quantile"
   ]
  },
  {
   "cell_type": "markdown",
   "id": "eed24910",
   "metadata": {},
   "source": [
    "* Lo que significa que el error del modelo de randomforest es mayor a 2700 en el 5% de los casos.\n",
    "* Los intervalos de confianza definen el rango en el cual debe registrar el valor de la predicción"
   ]
  },
  {
   "cell_type": "code",
   "execution_count": 70,
   "id": "86b8dd04",
   "metadata": {},
   "outputs": [
    {
     "name": "stdout",
     "output_type": "stream",
     "text": [
      "RMSE para el Randomforest en escala real 1171.3076079036487\n"
     ]
    }
   ],
   "source": [
    "y_pred_scale = np.expm1(y_test_pred)\n",
    "y_test_scale = np.expm1(y_test)\n",
    "print('RMSE para el Randomforest en escala real',np.sqrt(mean_squared_error(y_pred_scale,y_test_scale)))"
   ]
  }
 ],
 "metadata": {
  "kernelspec": {
   "display_name": "Python 3 (ipykernel)",
   "language": "python",
   "name": "python3"
  },
  "language_info": {
   "codemirror_mode": {
    "name": "ipython",
    "version": 3
   },
   "file_extension": ".py",
   "mimetype": "text/x-python",
   "name": "python",
   "nbconvert_exporter": "python",
   "pygments_lexer": "ipython3",
   "version": "3.8.12"
  }
 },
 "nbformat": 4,
 "nbformat_minor": 5
}
